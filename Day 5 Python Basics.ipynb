{
 "cells": [
  {
   "cell_type": "markdown",
   "id": "4cc966ec",
   "metadata": {},
   "source": [
    "# Temperature Converter\n",
    " The program converts temperatures in Celcius to Fahrenheit or vice versa"
   ]
  },
  {
   "cell_type": "markdown",
   "id": "dd1e0022",
   "metadata": {},
   "source": [
    "## Defining a Class\n",
    "First we define a class that can store the temperature attributes such as unit and value"
   ]
  },
  {
   "cell_type": "code",
   "execution_count": 19,
   "id": "5a4dd61f",
   "metadata": {},
   "outputs": [],
   "source": [
    "class TempConverter:\n",
    "    \"\"\"Converting temperatures from Celsius to Fahrenheit or vice versa\"\"\"\n",
    "    def __init__(self, unit, value):\n",
    "        \"\"\"Assign attributes to the object\"\"\"\n",
    "        self.unit = unit.lower()\n",
    "        self.value = float(value)\n",
    "\n",
    "\n",
    "    def convert(self):\n",
    "        \"\"\"Converts temperature based on the object attribute\"\"\"\n",
    "        while self.unit in [\"c\", \"f\"]:\n",
    "            if self.unit == \"f\":\n",
    "                self.converted = (self.value - 32) * 5 / 9\n",
    "                self.new_unit = \"c\"\n",
    "            else:\n",
    "                self.converted = (self.value * 9 / 5) + 32\n",
    "                self.new_unit = \"f\"\n",
    "            return  "
   ]
  },
  {
   "cell_type": "markdown",
   "id": "869e9144",
   "metadata": {},
   "source": [
    "## The main program\n",
    "From here we asks the user to **input** the unit and value of the temperature"
   ]
  },
  {
   "cell_type": "code",
   "execution_count": 20,
   "id": "491e4cde",
   "metadata": {
    "scrolled": true
   },
   "outputs": [
    {
     "name": "stdout",
     "output_type": "stream",
     "text": [
      "Please input 'c' for Celsius and 'f' for Fahrenheit \tc\n",
      "Please input the temperature value in integers or floating point number \t25\n"
     ]
    }
   ],
   "source": [
    "unit = input(\"Please input 'c' for Celsius and 'f' for Fahrenheit \\t\")\n",
    "value = input(\"Please input the temperature value in integers or floating point number \\t\")\n"
   ]
  },
  {
   "cell_type": "markdown",
   "id": "731ad67e",
   "metadata": {},
   "source": [
    "## Do the conversion\n",
    "Here we create an object to store those attributes. Then, we call the method \"convert\" to convert F to C or C to F depending on the input"
   ]
  },
  {
   "cell_type": "code",
   "execution_count": 21,
   "id": "fe6d16ce",
   "metadata": {},
   "outputs": [
    {
     "name": "stdout",
     "output_type": "stream",
     "text": [
      "25.00C is 77.00F\n"
     ]
    }
   ],
   "source": [
    "try:\n",
    "    # Create an object\n",
    "    temp = TempConverter(unit=unit, value=value)\n",
    "    \n",
    "    # Call the convert method\n",
    "    temp.convert()\n",
    "    \n",
    "    # Format and output the attributes\n",
    "    print(f\"{temp.value:.2f}{temp.unit.upper()} is {temp.converted:.2f}{temp.new_unit.upper()}\")\n",
    "    \n",
    "except TypeError:\n",
    "    print(\"Type Error\")\n",
    "except AttributeError:\n",
    "    print(\"Attribute Error\")\n",
    "except ValueError:\n",
    "    print(\"Value Error\")\n"
   ]
  },
  {
   "cell_type": "markdown",
   "id": "4c815f3a",
   "metadata": {},
   "source": [
    "<br>"
   ]
  },
  {
   "cell_type": "markdown",
   "id": "7548f1fb",
   "metadata": {},
   "source": [
    "# BMI Calculator\n",
    "This program calculates a persons BMI based on height and weight"
   ]
  },
  {
   "cell_type": "markdown",
   "id": "16f90afb",
   "metadata": {},
   "source": [
    "## Create Function\n",
    "Create two functions which will calculate bmi and assign a category based on the BMI "
   ]
  },
  {
   "cell_type": "code",
   "execution_count": 22,
   "id": "894e640f",
   "metadata": {},
   "outputs": [],
   "source": [
    "def calculate_bmi(height_in_cm, weight_in_kg):\n",
    "    \"\"\"Calculate bmi\"\"\"\n",
    "    height = float(height_in_cm) / 100\n",
    "    weight = float(weight_in_kg)\n",
    "    bmi = weight / (height ** 2)\n",
    "    return bmi\n",
    "\n",
    "\n",
    "def bmi_to_category(bmi):\n",
    "    \"\"\"Assign bmi category\"\"\"\n",
    "    if bmi < 18.5:\n",
    "        return \"underweight\"\n",
    "    elif bmi < 25:\n",
    "        return \"healthy\"\n",
    "    elif bmi < 30:\n",
    "        return \"overweight\"\n",
    "    else:\n",
    "        return \"obese\"\n",
    "\n"
   ]
  },
  {
   "cell_type": "markdown",
   "id": "ee4f26d1",
   "metadata": {},
   "source": [
    "## Create dictionaries\n",
    "Create dictionaries for each individual then append them into a list"
   ]
  },
  {
   "cell_type": "code",
   "execution_count": 23,
   "id": "880af0c3",
   "metadata": {},
   "outputs": [],
   "source": [
    "a = {\n",
    "    \"name\": \"a\",\n",
    "    \"gender\": \"male\",\n",
    "    \"height_in_cm\": 168,\n",
    "    \"weight_in_kg\": 58\n",
    "}\n",
    "\n",
    "b = {\n",
    "    \"name\": \"b\",\n",
    "    \"gender\": \"female\",\n",
    "    \"height_in_cm\": 157,\n",
    "    \"weight_in_kg\": 42\n",
    "}\n",
    "\n",
    "c = {\n",
    "    \"name\": \"c\",\n",
    "    \"gender\": \"male\",\n",
    "    \"height_in_cm\": 172,\n",
    "    \"weight_in_kg\": 85\n",
    "}\n",
    "\n",
    "# Append dictionaries into list\n",
    "people = [a, b, c]\n"
   ]
  },
  {
   "cell_type": "markdown",
   "id": "d9f35e95",
   "metadata": {},
   "source": [
    "## Call the functions\n",
    "Call the functions to calculate BMI and find categories by using a for loop to loop through entire list.  \n",
    "Lastly output the results into a table."
   ]
  },
  {
   "cell_type": "code",
   "execution_count": 24,
   "id": "58339de2",
   "metadata": {},
   "outputs": [
    {
     "name": "stdout",
     "output_type": "stream",
     "text": [
      "Name    Gender      BMI  Category\n",
      "------  --------  -----  -----------\n",
      "a       male      20.55  healthy\n",
      "b       female    17.04  underweight\n",
      "c       male      28.73  overweight\n"
     ]
    }
   ],
   "source": [
    "\n",
    "table = []\n",
    "for _ in people:\n",
    "    bmi = calculate_bmi(_[\"height_in_cm\"], _[\"weight_in_kg\"])\n",
    "    category = bmi_to_category(bmi)\n",
    "    table.append([_[\"name\"], _[\"gender\"], f\"{bmi:.2f}\", category])\n",
    "\n",
    "from tabulate import tabulate\n",
    "print(tabulate(table, headers = [\"Name\",\"Gender\",\"BMI\",\"Category\"]))"
   ]
  },
  {
   "cell_type": "markdown",
   "id": "cbde9a74",
   "metadata": {},
   "source": [
    "<br>"
   ]
  }
 ],
 "metadata": {
  "kernelspec": {
   "display_name": "Python 3 (ipykernel)",
   "language": "python",
   "name": "python3"
  },
  "language_info": {
   "codemirror_mode": {
    "name": "ipython",
    "version": 3
   },
   "file_extension": ".py",
   "mimetype": "text/x-python",
   "name": "python",
   "nbconvert_exporter": "python",
   "pygments_lexer": "ipython3",
   "version": "3.9.12"
  }
 },
 "nbformat": 4,
 "nbformat_minor": 5
}

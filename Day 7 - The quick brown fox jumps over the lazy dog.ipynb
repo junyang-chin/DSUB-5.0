{
 "cells": [
  {
   "cell_type": "markdown",
   "id": "a4bfd978",
   "metadata": {},
   "source": [
    "# Python Data Structures\n",
    "Given a string: \n",
    ">“The quick brown fox jumps over the lazy dog.”\n",
    "\n",
    "Write a script to find \n",
    "\n",
    "1. Words that have exactly THREE characters\n",
    "2. Words that have more than THREE characters\n",
    "3. Words that start with a vowel (aeiou)\n"
   ]
  },
  {
   "cell_type": "markdown",
   "id": "f25e4fcc",
   "metadata": {},
   "source": [
    "## Extracting words from the sentence\n",
    "We could see that the sentence is a combination of words separated by a delimiter i.e. a space \n",
    "We can extract the words into a list for every spaces.\n",
    "### The difficult way\n",
    "Looping through each character in the string then joins them together until it reaches a space or fullstop. \n",
    "At this time, append the joined characters into a list"
   ]
  },
  {
   "cell_type": "code",
   "execution_count": 1,
   "id": "2049ce5b",
   "metadata": {},
   "outputs": [
    {
     "data": {
      "text/plain": [
       "['The', 'quick', 'brown', 'fox', 'jumps', 'over', 'the', 'lazy', 'dog']"
      ]
     },
     "execution_count": 1,
     "metadata": {},
     "output_type": "execute_result"
    }
   ],
   "source": [
    "sentence = \"The quick brown fox jumps over the lazy dog.\"\n",
    "words_list = []\n",
    "temporary_word = \"\"\n",
    "for _ in sentence:\n",
    "    if _ == \" \" or _ == \".\":\n",
    "        words_list.append(temporary_word) #append the temporary word into the string\n",
    "        temporary_word = \"\" #reset the temporary word\n",
    "    else:\n",
    "        temporary_word += _ # concatenate the characters into a word\n",
    "        \n",
    "words_list      "
   ]
  },
  {
   "cell_type": "markdown",
   "id": "3f3f78ca",
   "metadata": {},
   "source": [
    "### The easy way\n",
    "There's a built in Python function called split(). But theres a caveat, it recoginises the fullstop as part of a word."
   ]
  },
  {
   "cell_type": "code",
   "execution_count": 2,
   "id": "77f80bc4",
   "metadata": {},
   "outputs": [
    {
     "data": {
      "text/plain": [
       "['The', 'quick', 'brown', 'fox', 'jumps', 'over', 'the', 'lazy', 'dog']"
      ]
     },
     "execution_count": 2,
     "metadata": {},
     "output_type": "execute_result"
    }
   ],
   "source": [
    "words_list = sentence.split(\" \") # split the string with spacae as a delimiter\n",
    "new_words_list = []\n",
    "for idx,_ in enumerate(words_list):\n",
    "    words_list[idx] = _.replace(\".\",\"\") # replace any string with a fullstop\n",
    "words_list    \n"
   ]
  },
  {
   "cell_type": "markdown",
   "id": "9cf8b81e",
   "metadata": {},
   "source": [
    "## Finding words that have exactly 3 characters"
   ]
  },
  {
   "cell_type": "code",
   "execution_count": 3,
   "id": "9022f654",
   "metadata": {},
   "outputs": [
    {
     "data": {
      "text/plain": [
       "['The', 'fox', 'the', 'dog']"
      ]
     },
     "execution_count": 3,
     "metadata": {},
     "output_type": "execute_result"
    }
   ],
   "source": [
    "len_3_words = [ _ for _ in words_list if len(_) == 3]\n",
    "len_3_words"
   ]
  },
  {
   "cell_type": "markdown",
   "id": "b2990941",
   "metadata": {},
   "source": [
    "## Finding words that more than 3 characters"
   ]
  },
  {
   "cell_type": "code",
   "execution_count": 4,
   "id": "6e6f121e",
   "metadata": {},
   "outputs": [
    {
     "data": {
      "text/plain": [
       "['quick', 'brown', 'jumps', 'over', 'lazy']"
      ]
     },
     "execution_count": 4,
     "metadata": {},
     "output_type": "execute_result"
    }
   ],
   "source": [
    "len_over_3_words = [ _ for _ in words_list if len(_) > 3]\n",
    "len_over_3_words"
   ]
  },
  {
   "cell_type": "markdown",
   "id": "104c4def",
   "metadata": {},
   "source": [
    "# Finding words with aeiou vowels"
   ]
  },
  {
   "cell_type": "code",
   "execution_count": 5,
   "id": "0fb46dd1",
   "metadata": {},
   "outputs": [
    {
     "data": {
      "text/plain": [
       "['The',\n",
       " 'quick',\n",
       " 'quick',\n",
       " 'brown',\n",
       " 'fox',\n",
       " 'jumps',\n",
       " 'over',\n",
       " 'over',\n",
       " 'the',\n",
       " 'lazy',\n",
       " 'dog']"
      ]
     },
     "execution_count": 5,
     "metadata": {},
     "output_type": "execute_result"
    }
   ],
   "source": [
    "words_with_vowels = [ _ for _ in words_list for x in _ if x in [\"a\",\"e\",\"i\",\"o\",\"u\"]]\n",
    "words_with_vowels"
   ]
  },
  {
   "cell_type": "code",
   "execution_count": null,
   "id": "e2a555a3",
   "metadata": {},
   "outputs": [],
   "source": []
  }
 ],
 "metadata": {
  "kernelspec": {
   "display_name": "Python 3 (ipykernel)",
   "language": "python",
   "name": "python3"
  },
  "language_info": {
   "codemirror_mode": {
    "name": "ipython",
    "version": 3
   },
   "file_extension": ".py",
   "mimetype": "text/x-python",
   "name": "python",
   "nbconvert_exporter": "python",
   "pygments_lexer": "ipython3",
   "version": "3.9.12"
  }
 },
 "nbformat": 4,
 "nbformat_minor": 5
}

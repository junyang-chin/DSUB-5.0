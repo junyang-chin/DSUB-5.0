{
  "cells": [
    {
      "cell_type": "markdown",
      "id": "ADpXc0iAzRq7",
      "metadata": {
        "id": "ADpXc0iAzRq7"
      },
      "source": [
        "# CO2 Emissions by Energy Consumption\n",
        "Sources\n",
        "\n",
        "> [Link to Kaggle](https://www.kaggle.com/datasets/lobosi/c02-emission-by-countrys-grouth-and-population)"
      ]
    },
    {
      "cell_type": "markdown",
      "id": "bRd-2J15zORR",
      "metadata": {
        "id": "bRd-2J15zORR"
      },
      "source": [
        "## Importing the datasets into dataframes\n",
        "\n"
      ]
    },
    {
      "cell_type": "code",
      "execution_count": 1,
      "id": "ffb6d7c8",
      "metadata": {
        "id": "ffb6d7c8"
      },
      "outputs": [],
      "source": [
        "import pandas as pd\n",
        "import seaborn as sns"
      ]
    },
    {
      "cell_type": "markdown",
      "id": "etgy7axmzrOi",
      "metadata": {
        "id": "etgy7axmzrOi"
      },
      "source": [
        "### Using the Kaggle API to download the dataset into a zip file"
      ]
    },
    {
      "cell_type": "code",
      "execution_count": 2,
      "id": "6KTchqETmdRT",
      "metadata": {
        "colab": {
          "base_uri": "https://localhost:8080/"
        },
        "id": "6KTchqETmdRT",
        "outputId": "7d99e691-9159-405e-b064-eab6b0366983"
      },
      "outputs": [
        {
          "name": "stdout",
          "output_type": "stream",
          "text": [
            "c02-emission-by-countrys-grouth-and-population.zip: Skipping, found more recently modified local copy (use --force to force download)\n"
          ]
        }
      ],
      "source": [
        "# calling the API\n",
        "! kaggle datasets download -d lobosi/c02-emission-by-countrys-grouth-and-population"
      ]
    },
    {
      "cell_type": "code",
      "execution_count": 3,
      "id": "GX7LcWPlrY8-",
      "metadata": {
        "colab": {
          "base_uri": "https://localhost:8080/",
          "height": 373
        },
        "id": "GX7LcWPlrY8-",
        "outputId": "1380a7e3-6909-46cc-beae-852d0dd77659"
      },
      "outputs": [
        {
          "data": {
            "text/plain": [
              "['energy.csv']"
            ]
          },
          "execution_count": 3,
          "metadata": {},
          "output_type": "execute_result"
        }
      ],
      "source": [
        "#Open the zipfile\n",
        "from zipfile import ZipFile\n",
        "zf = ZipFile(\"D:\\CJY\\Downloads\\DSUB\\c02-emission-by-countrys-grouth-and-population.zip\")\n",
        "zf.namelist()"
      ]
    },
    {
      "cell_type": "markdown",
      "id": "8RehEd9x0CoL",
      "metadata": {
        "id": "8RehEd9x0CoL"
      },
      "source": [
        "### Exploring the dataframes\n",
        "Load the csv into dataframes\n",
        "df1 = meal_info.csv\n",
        "df2 = test.csv"
      ]
    },
    {
      "cell_type": "code",
      "execution_count": 4,
      "id": "15393639",
      "metadata": {
        "id": "15393639",
        "scrolled": true
      },
      "outputs": [],
      "source": [
        "df = pd.read_csv(zf.open(\"energy.csv\"))\n",
        "pd.set_option('display.max_columns', None)"
      ]
    },
    {
      "cell_type": "markdown",
      "id": "11q81Gm20SAb",
      "metadata": {
        "id": "11q81Gm20SAb"
      },
      "source": [
        "Showing some randomly picked rows"
      ]
    },
    {
      "cell_type": "code",
      "execution_count": 5,
      "id": "VdcuUB8Ftd3N",
      "metadata": {
        "id": "VdcuUB8Ftd3N"
      },
      "outputs": [
        {
          "data": {
            "text/html": [
              "<div>\n",
              "<style scoped>\n",
              "    .dataframe tbody tr th:only-of-type {\n",
              "        vertical-align: middle;\n",
              "    }\n",
              "\n",
              "    .dataframe tbody tr th {\n",
              "        vertical-align: top;\n",
              "    }\n",
              "\n",
              "    .dataframe thead th {\n",
              "        text-align: right;\n",
              "    }\n",
              "</style>\n",
              "<table border=\"1\" class=\"dataframe\">\n",
              "  <thead>\n",
              "    <tr style=\"text-align: right;\">\n",
              "      <th></th>\n",
              "      <th>Unnamed: 0</th>\n",
              "      <th>Country</th>\n",
              "      <th>Energy_type</th>\n",
              "      <th>Year</th>\n",
              "      <th>Energy_consumption</th>\n",
              "      <th>Energy_production</th>\n",
              "      <th>GDP</th>\n",
              "      <th>Population</th>\n",
              "      <th>Energy_intensity_per_capita</th>\n",
              "      <th>Energy_intensity_by_GDP</th>\n",
              "      <th>CO2_emission</th>\n",
              "    </tr>\n",
              "  </thead>\n",
              "  <tbody>\n",
              "    <tr>\n",
              "      <th>0</th>\n",
              "      <td>0</td>\n",
              "      <td>World</td>\n",
              "      <td>all_energy_types</td>\n",
              "      <td>1980</td>\n",
              "      <td>292.899790</td>\n",
              "      <td>296.337228</td>\n",
              "      <td>27770.910281</td>\n",
              "      <td>4.298127e+06</td>\n",
              "      <td>68.145921</td>\n",
              "      <td>10.547</td>\n",
              "      <td>4946.627130</td>\n",
              "    </tr>\n",
              "    <tr>\n",
              "      <th>1</th>\n",
              "      <td>1</td>\n",
              "      <td>World</td>\n",
              "      <td>coal</td>\n",
              "      <td>1980</td>\n",
              "      <td>78.656134</td>\n",
              "      <td>80.114194</td>\n",
              "      <td>27770.910281</td>\n",
              "      <td>4.298127e+06</td>\n",
              "      <td>68.145921</td>\n",
              "      <td>10.547</td>\n",
              "      <td>1409.790188</td>\n",
              "    </tr>\n",
              "    <tr>\n",
              "      <th>2</th>\n",
              "      <td>2</td>\n",
              "      <td>World</td>\n",
              "      <td>natural_gas</td>\n",
              "      <td>1980</td>\n",
              "      <td>53.865223</td>\n",
              "      <td>54.761046</td>\n",
              "      <td>27770.910281</td>\n",
              "      <td>4.298127e+06</td>\n",
              "      <td>68.145921</td>\n",
              "      <td>10.547</td>\n",
              "      <td>1081.593377</td>\n",
              "    </tr>\n",
              "    <tr>\n",
              "      <th>3</th>\n",
              "      <td>3</td>\n",
              "      <td>World</td>\n",
              "      <td>petroleum_n_other_liquids</td>\n",
              "      <td>1980</td>\n",
              "      <td>132.064019</td>\n",
              "      <td>133.111109</td>\n",
              "      <td>27770.910281</td>\n",
              "      <td>4.298127e+06</td>\n",
              "      <td>68.145921</td>\n",
              "      <td>10.547</td>\n",
              "      <td>2455.243565</td>\n",
              "    </tr>\n",
              "    <tr>\n",
              "      <th>4</th>\n",
              "      <td>4</td>\n",
              "      <td>World</td>\n",
              "      <td>nuclear</td>\n",
              "      <td>1980</td>\n",
              "      <td>7.575700</td>\n",
              "      <td>7.575700</td>\n",
              "      <td>27770.910281</td>\n",
              "      <td>4.298127e+06</td>\n",
              "      <td>68.145921</td>\n",
              "      <td>10.547</td>\n",
              "      <td>0.000000</td>\n",
              "    </tr>\n",
              "    <tr>\n",
              "      <th>5</th>\n",
              "      <td>5</td>\n",
              "      <td>World</td>\n",
              "      <td>renewables_n_other</td>\n",
              "      <td>1980</td>\n",
              "      <td>20.702344</td>\n",
              "      <td>20.775178</td>\n",
              "      <td>27770.910281</td>\n",
              "      <td>4.298127e+06</td>\n",
              "      <td>68.145921</td>\n",
              "      <td>10.547</td>\n",
              "      <td>0.000000</td>\n",
              "    </tr>\n",
              "    <tr>\n",
              "      <th>6</th>\n",
              "      <td>6</td>\n",
              "      <td>Afghanistan</td>\n",
              "      <td>all_energy_types</td>\n",
              "      <td>1980</td>\n",
              "      <td>0.026583</td>\n",
              "      <td>0.072561</td>\n",
              "      <td>NaN</td>\n",
              "      <td>1.335650e+04</td>\n",
              "      <td>1.990283</td>\n",
              "      <td>0.000</td>\n",
              "      <td>NaN</td>\n",
              "    </tr>\n",
              "    <tr>\n",
              "      <th>7</th>\n",
              "      <td>7</td>\n",
              "      <td>Afghanistan</td>\n",
              "      <td>coal</td>\n",
              "      <td>1980</td>\n",
              "      <td>0.002479</td>\n",
              "      <td>0.002355</td>\n",
              "      <td>NaN</td>\n",
              "      <td>1.335650e+04</td>\n",
              "      <td>1.990283</td>\n",
              "      <td>0.000</td>\n",
              "      <td>NaN</td>\n",
              "    </tr>\n",
              "    <tr>\n",
              "      <th>8</th>\n",
              "      <td>8</td>\n",
              "      <td>Afghanistan</td>\n",
              "      <td>natural_gas</td>\n",
              "      <td>1980</td>\n",
              "      <td>0.002094</td>\n",
              "      <td>0.062820</td>\n",
              "      <td>NaN</td>\n",
              "      <td>1.335650e+04</td>\n",
              "      <td>1.990283</td>\n",
              "      <td>0.000</td>\n",
              "      <td>NaN</td>\n",
              "    </tr>\n",
              "    <tr>\n",
              "      <th>9</th>\n",
              "      <td>9</td>\n",
              "      <td>Afghanistan</td>\n",
              "      <td>petroleum_n_other_liquids</td>\n",
              "      <td>1980</td>\n",
              "      <td>0.014624</td>\n",
              "      <td>0.000000</td>\n",
              "      <td>NaN</td>\n",
              "      <td>1.335650e+04</td>\n",
              "      <td>1.990283</td>\n",
              "      <td>0.000</td>\n",
              "      <td>NaN</td>\n",
              "    </tr>\n",
              "  </tbody>\n",
              "</table>\n",
              "</div>"
            ],
            "text/plain": [
              "   Unnamed: 0      Country                Energy_type  Year  \\\n",
              "0           0        World           all_energy_types  1980   \n",
              "1           1        World                       coal  1980   \n",
              "2           2        World                natural_gas  1980   \n",
              "3           3        World  petroleum_n_other_liquids  1980   \n",
              "4           4        World                    nuclear  1980   \n",
              "5           5        World         renewables_n_other  1980   \n",
              "6           6  Afghanistan           all_energy_types  1980   \n",
              "7           7  Afghanistan                       coal  1980   \n",
              "8           8  Afghanistan                natural_gas  1980   \n",
              "9           9  Afghanistan  petroleum_n_other_liquids  1980   \n",
              "\n",
              "   Energy_consumption  Energy_production           GDP    Population  \\\n",
              "0          292.899790         296.337228  27770.910281  4.298127e+06   \n",
              "1           78.656134          80.114194  27770.910281  4.298127e+06   \n",
              "2           53.865223          54.761046  27770.910281  4.298127e+06   \n",
              "3          132.064019         133.111109  27770.910281  4.298127e+06   \n",
              "4            7.575700           7.575700  27770.910281  4.298127e+06   \n",
              "5           20.702344          20.775178  27770.910281  4.298127e+06   \n",
              "6            0.026583           0.072561           NaN  1.335650e+04   \n",
              "7            0.002479           0.002355           NaN  1.335650e+04   \n",
              "8            0.002094           0.062820           NaN  1.335650e+04   \n",
              "9            0.014624           0.000000           NaN  1.335650e+04   \n",
              "\n",
              "   Energy_intensity_per_capita  Energy_intensity_by_GDP  CO2_emission  \n",
              "0                    68.145921                   10.547   4946.627130  \n",
              "1                    68.145921                   10.547   1409.790188  \n",
              "2                    68.145921                   10.547   1081.593377  \n",
              "3                    68.145921                   10.547   2455.243565  \n",
              "4                    68.145921                   10.547      0.000000  \n",
              "5                    68.145921                   10.547      0.000000  \n",
              "6                     1.990283                    0.000           NaN  \n",
              "7                     1.990283                    0.000           NaN  \n",
              "8                     1.990283                    0.000           NaN  \n",
              "9                     1.990283                    0.000           NaN  "
            ]
          },
          "execution_count": 5,
          "metadata": {},
          "output_type": "execute_result"
        }
      ],
      "source": [
        "df.head(10)"
      ]
    },
    {
      "cell_type": "code",
      "execution_count": 6,
      "id": "RJBvwNR4teU7",
      "metadata": {
        "id": "RJBvwNR4teU7"
      },
      "outputs": [
        {
          "name": "stdout",
          "output_type": "stream",
          "text": [
            "<class 'pandas.core.frame.DataFrame'>\n",
            "RangeIndex: 55440 entries, 0 to 55439\n",
            "Data columns (total 11 columns):\n",
            " #   Column                       Non-Null Count  Dtype  \n",
            "---  ------                       --------------  -----  \n",
            " 0   Unnamed: 0                   55440 non-null  int64  \n",
            " 1   Country                      55440 non-null  object \n",
            " 2   Energy_type                  55440 non-null  object \n",
            " 3   Year                         55440 non-null  int64  \n",
            " 4   Energy_consumption           44287 non-null  float64\n",
            " 5   Energy_production            44289 non-null  float64\n",
            " 6   GDP                          40026 non-null  float64\n",
            " 7   Population                   46014 non-null  float64\n",
            " 8   Energy_intensity_per_capita  50358 non-null  float64\n",
            " 9   Energy_intensity_by_GDP      50358 non-null  float64\n",
            " 10  CO2_emission                 51614 non-null  float64\n",
            "dtypes: float64(7), int64(2), object(2)\n",
            "memory usage: 4.7+ MB\n"
          ]
        }
      ],
      "source": [
        "df.info()"
      ]
    },
    {
      "cell_type": "code",
      "execution_count": 7,
      "id": "2e36d662",
      "metadata": {},
      "outputs": [
        {
          "data": {
            "text/html": [
              "<div>\n",
              "<style scoped>\n",
              "    .dataframe tbody tr th:only-of-type {\n",
              "        vertical-align: middle;\n",
              "    }\n",
              "\n",
              "    .dataframe tbody tr th {\n",
              "        vertical-align: top;\n",
              "    }\n",
              "\n",
              "    .dataframe thead th {\n",
              "        text-align: right;\n",
              "    }\n",
              "</style>\n",
              "<table border=\"1\" class=\"dataframe\">\n",
              "  <thead>\n",
              "    <tr style=\"text-align: right;\">\n",
              "      <th></th>\n",
              "      <th>Unnamed: 0</th>\n",
              "      <th>Year</th>\n",
              "      <th>Energy_consumption</th>\n",
              "      <th>Energy_production</th>\n",
              "      <th>GDP</th>\n",
              "      <th>Population</th>\n",
              "      <th>Energy_intensity_per_capita</th>\n",
              "      <th>Energy_intensity_by_GDP</th>\n",
              "      <th>CO2_emission</th>\n",
              "    </tr>\n",
              "  </thead>\n",
              "  <tbody>\n",
              "    <tr>\n",
              "      <th>count</th>\n",
              "      <td>33305.000000</td>\n",
              "      <td>33305.000000</td>\n",
              "      <td>33305.000000</td>\n",
              "      <td>3.330500e+04</td>\n",
              "      <td>33305.000000</td>\n",
              "      <td>3.330500e+04</td>\n",
              "      <td>33305.000000</td>\n",
              "      <td>33305.000000</td>\n",
              "      <td>33305.000000</td>\n",
              "    </tr>\n",
              "    <tr>\n",
              "      <th>mean</th>\n",
              "      <td>32248.035850</td>\n",
              "      <td>2002.776250</td>\n",
              "      <td>1.960963</td>\n",
              "      <td>1.940987e+00</td>\n",
              "      <td>967.855247</td>\n",
              "      <td>8.185787e+04</td>\n",
              "      <td>87.017289</td>\n",
              "      <td>4.780364</td>\n",
              "      <td>117.359992</td>\n",
              "    </tr>\n",
              "    <tr>\n",
              "      <th>std</th>\n",
              "      <td>13915.190442</td>\n",
              "      <td>10.037084</td>\n",
              "      <td>17.753187</td>\n",
              "      <td>1.755388e+01</td>\n",
              "      <td>6547.095969</td>\n",
              "      <td>5.342528e+05</td>\n",
              "      <td>118.165225</td>\n",
              "      <td>4.277883</td>\n",
              "      <td>1117.957350</td>\n",
              "    </tr>\n",
              "    <tr>\n",
              "      <th>min</th>\n",
              "      <td>0.000000</td>\n",
              "      <td>1980.000000</td>\n",
              "      <td>-0.163438</td>\n",
              "      <td>-1.000000e-39</td>\n",
              "      <td>0.124958</td>\n",
              "      <td>1.615500e+01</td>\n",
              "      <td>0.000000</td>\n",
              "      <td>0.000000</td>\n",
              "      <td>-0.005130</td>\n",
              "    </tr>\n",
              "    <tr>\n",
              "      <th>25%</th>\n",
              "      <td>21047.000000</td>\n",
              "      <td>1995.000000</td>\n",
              "      <td>0.001196</td>\n",
              "      <td>0.000000e+00</td>\n",
              "      <td>11.652200</td>\n",
              "      <td>2.029830e+03</td>\n",
              "      <td>10.672676</td>\n",
              "      <td>2.436436</td>\n",
              "      <td>0.000000</td>\n",
              "    </tr>\n",
              "    <tr>\n",
              "      <th>50%</th>\n",
              "      <td>32761.000000</td>\n",
              "      <td>2003.000000</td>\n",
              "      <td>0.040328</td>\n",
              "      <td>4.748380e-03</td>\n",
              "      <td>58.035000</td>\n",
              "      <td>7.854220e+03</td>\n",
              "      <td>45.644371</td>\n",
              "      <td>3.838103</td>\n",
              "      <td>0.591826</td>\n",
              "    </tr>\n",
              "    <tr>\n",
              "      <th>75%</th>\n",
              "      <td>44139.000000</td>\n",
              "      <td>2011.000000</td>\n",
              "      <td>0.353622</td>\n",
              "      <td>1.972639e-01</td>\n",
              "      <td>307.280300</td>\n",
              "      <td>2.486268e+04</td>\n",
              "      <td>118.385300</td>\n",
              "      <td>5.840409</td>\n",
              "      <td>14.000000</td>\n",
              "    </tr>\n",
              "    <tr>\n",
              "      <th>max</th>\n",
              "      <td>55439.000000</td>\n",
              "      <td>2019.000000</td>\n",
              "      <td>601.040490</td>\n",
              "      <td>6.115090e+02</td>\n",
              "      <td>127690.247059</td>\n",
              "      <td>7.714631e+06</td>\n",
              "      <td>1139.320598</td>\n",
              "      <td>166.913605</td>\n",
              "      <td>35584.933498</td>\n",
              "    </tr>\n",
              "  </tbody>\n",
              "</table>\n",
              "</div>"
            ],
            "text/plain": [
              "         Unnamed: 0          Year  Energy_consumption  Energy_production  \\\n",
              "count  33305.000000  33305.000000        33305.000000       3.330500e+04   \n",
              "mean   32248.035850   2002.776250            1.960963       1.940987e+00   \n",
              "std    13915.190442     10.037084           17.753187       1.755388e+01   \n",
              "min        0.000000   1980.000000           -0.163438      -1.000000e-39   \n",
              "25%    21047.000000   1995.000000            0.001196       0.000000e+00   \n",
              "50%    32761.000000   2003.000000            0.040328       4.748380e-03   \n",
              "75%    44139.000000   2011.000000            0.353622       1.972639e-01   \n",
              "max    55439.000000   2019.000000          601.040490       6.115090e+02   \n",
              "\n",
              "                 GDP    Population  Energy_intensity_per_capita  \\\n",
              "count   33305.000000  3.330500e+04                 33305.000000   \n",
              "mean      967.855247  8.185787e+04                    87.017289   \n",
              "std      6547.095969  5.342528e+05                   118.165225   \n",
              "min         0.124958  1.615500e+01                     0.000000   \n",
              "25%        11.652200  2.029830e+03                    10.672676   \n",
              "50%        58.035000  7.854220e+03                    45.644371   \n",
              "75%       307.280300  2.486268e+04                   118.385300   \n",
              "max    127690.247059  7.714631e+06                  1139.320598   \n",
              "\n",
              "       Energy_intensity_by_GDP  CO2_emission  \n",
              "count             33305.000000  33305.000000  \n",
              "mean                  4.780364    117.359992  \n",
              "std                   4.277883   1117.957350  \n",
              "min                   0.000000     -0.005130  \n",
              "25%                   2.436436      0.000000  \n",
              "50%                   3.838103      0.591826  \n",
              "75%                   5.840409     14.000000  \n",
              "max                 166.913605  35584.933498  "
            ]
          },
          "execution_count": 7,
          "metadata": {},
          "output_type": "execute_result"
        }
      ],
      "source": [
        "df= df.dropna() # drop empty rows\n",
        "df.describe()"
      ]
    },
    {
      "cell_type": "markdown",
      "id": "hSzeQvlX1US6",
      "metadata": {
        "id": "hSzeQvlX1US6"
      },
      "source": [
        "### Visualising the data"
      ]
    },
    {
      "cell_type": "code",
      "execution_count": 8,
      "id": "c74c52d4",
      "metadata": {
        "id": "c74c52d4"
      },
      "outputs": [
        {
          "data": {
            "text/plain": [
              "<AxesSubplot:xlabel='Energy_consumption', ylabel='CO2_emission'>"
            ]
          },
          "execution_count": 8,
          "metadata": {},
          "output_type": "execute_result"
        },
        {
          "data": {
            "image/png": "[encoded data removed]",
            "text/plain": [
              "<Figure size 1152x576 with 1 Axes>"
            ]
          },
          "metadata": {},
          "output_type": "display_data"
        }
      ],
      "source": [
        "sns.set(rc = {\"figure.figsize\":(16,8)})\n",
        "sns.regplot(data = df, x = \"Energy_consumption\", y = \"CO2_emission\")"
      ]
    },
    {
      "cell_type": "markdown",
      "id": "d1117916",
      "metadata": {},
      "source": [
        "### Building a Linear Regression Model\n"
      ]
    },
    {
      "cell_type": "code",
      "execution_count": 9,
      "id": "074abc79",
      "metadata": {
        "id": "074abc79"
      },
      "outputs": [],
      "source": [
        "from sklearn.model_selection import train_test_split\n",
        "from sklearn.linear_model import LinearRegression"
      ]
    },
    {
      "cell_type": "markdown",
      "id": "8a698098",
      "metadata": {},
      "source": [
        "Splitting the train and test dataset"
      ]
    },
    {
      "cell_type": "code",
      "execution_count": 10,
      "id": "4cf65906",
      "metadata": {},
      "outputs": [],
      "source": [
        "features = [\"Energy_consumption\"]\n",
        "\n",
        "train_data = df[features]\n",
        "train_target = df[\"CO2_emission\"]\n",
        "\n",
        "train_X, test_X, train_y, test_y = train_test_split( train_data, train_target, test_size=0.3, random_state=1)"
      ]
    },
    {
      "cell_type": "markdown",
      "id": "b3a6c7dc",
      "metadata": {},
      "source": [
        "Fitting the data"
      ]
    },
    {
      "cell_type": "code",
      "execution_count": 11,
      "id": "ba261e7d",
      "metadata": {},
      "outputs": [
        {
          "data": {
            "text/plain": [
              "LinearRegression()"
            ]
          },
          "execution_count": 11,
          "metadata": {},
          "output_type": "execute_result"
        }
      ],
      "source": [
        "model = LinearRegression()\n",
        "model.fit(train_X,train_y)"
      ]
    },
    {
      "cell_type": "markdown",
      "id": "57ec6be5",
      "metadata": {},
      "source": [
        "Scoring the the model \"1\" means perfect score"
      ]
    },
    {
      "cell_type": "code",
      "execution_count": 12,
      "id": "890c1b82",
      "metadata": {},
      "outputs": [
        {
          "data": {
            "text/plain": [
              "0.9418707065324375"
            ]
          },
          "execution_count": 12,
          "metadata": {},
          "output_type": "execute_result"
        }
      ],
      "source": [
        "model.score(test_X, test_y)"
      ]
    },
    {
      "cell_type": "markdown",
      "id": "4dec3bd3",
      "metadata": {},
      "source": [
        "### Predict the Emission using Energy Consumption"
      ]
    },
    {
      "cell_type": "code",
      "execution_count": 13,
      "id": "80832620",
      "metadata": {},
      "outputs": [
        {
          "name": "stderr",
          "output_type": "stream",
          "text": [
            "c:\\Users\\CJY\\anaconda3\\lib\\site-packages\\sklearn\\base.py:450: UserWarning: X does not have valid feature names, but LinearRegression was fitted with feature names\n",
            "  warnings.warn(\n"
          ]
        },
        {
          "data": {
            "text/plain": [
              "array([31125.45661798])"
            ]
          },
          "execution_count": 13,
          "metadata": {},
          "output_type": "execute_result"
        }
      ],
      "source": [
        "model.predict([[500]])"
      ]
    },
    {
      "cell_type": "markdown",
      "id": "59e61875",
      "metadata": {},
      "source": [
        "## Evaluating the model"
      ]
    },
    {
      "cell_type": "markdown",
      "id": "0183506e",
      "metadata": {},
      "source": [
        "How to calculate the predicted value of a polynomial equation.\n",
        "The linear regression function is \n",
        "> y = mx + c \n",
        "\n",
        "where m is the coefficient and c is the intercept"
      ]
    },
    {
      "cell_type": "code",
      "execution_count": 15,
      "id": "b0140869",
      "metadata": {},
      "outputs": [
        {
          "data": {
            "text/plain": [
              "-3.500828839133632"
            ]
          },
          "execution_count": 15,
          "metadata": {},
          "output_type": "execute_result"
        }
      ],
      "source": [
        "model.intercept_"
      ]
    },
    {
      "cell_type": "code",
      "execution_count": 18,
      "id": "b687d891",
      "metadata": {},
      "outputs": [
        {
          "data": {
            "text/plain": [
              "array([62.25791489])"
            ]
          },
          "execution_count": 18,
          "metadata": {},
          "output_type": "execute_result"
        }
      ],
      "source": [
        "model.coef_"
      ]
    },
    {
      "cell_type": "code",
      "execution_count": 19,
      "id": "2144533d",
      "metadata": {},
      "outputs": [
        {
          "data": {
            "text/plain": [
              "31125.4492"
            ]
          },
          "execution_count": 19,
          "metadata": {},
          "output_type": "execute_result"
        }
      ],
      "source": [
        "(62.2579 * 500) - 3.5008"
      ]
    },
    {
      "cell_type": "markdown",
      "id": "4b33fe1c",
      "metadata": {},
      "source": [
        "### Finding the distance of the datapoints to the fitted line - The R-square"
      ]
    },
    {
      "cell_type": "markdown",
      "id": "1dc2ff39",
      "metadata": {},
      "source": [
        "High R-square value means there are less differences of the observed data with the predicted value. \n",
        "\n",
        "Low R-square value means the model does not explain the variabtion of the response variable around its mean. This mean the dependent variable predcts the dependent variable as well as the regresion model. \n",
        "\n",
        "This model has an R-squared value of 94% \n",
        "\n",
        "> R-squared does not indicate if a regression model provides an adequate fit to your data. A good model can have a low R2 value. On the other hand, a biased model can have a high R2 value!<br>\n",
        "[More on R-square](https://statisticsbyjim.com/regression/interpret-r-squared-regression/)\n",
        "\n",
        "\n"
      ]
    },
    {
      "cell_type": "markdown",
      "id": "245dd226",
      "metadata": {},
      "source": []
    },
    {
      "cell_type": "markdown",
      "id": "ca583038",
      "metadata": {},
      "source": []
    }
  ],
  "metadata": {
    "colab": {
      "name": "Day 15 - Linear Regression on Solar Generation.ipynb",
      "provenance": []
    },
    "kernelspec": {
      "display_name": "Python 3.9.12 ('base')",
      "language": "python",
      "name": "python3"
    },
    "language_info": {
      "codemirror_mode": {
        "name": "ipython",
        "version": 3
      },
      "file_extension": ".py",
      "mimetype": "text/x-python",
      "name": "python",
      "nbconvert_exporter": "python",
      "pygments_lexer": "ipython3",
      "version": "3.9.12"
    },
    "vscode": {
      "interpreter": {
        "hash": "4bbe2569fbb9a34d93c25870fba34813f147bbe7d6e769fc7298124b01662f4d"
      }
    }
  },
  "nbformat": 4,
  "nbformat_minor": 5
}

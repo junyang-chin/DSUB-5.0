{
 "cells": [
  {
   "cell_type": "markdown",
   "metadata": {},
   "source": [
    "# NLP Analysis"
   ]
  },
  {
   "cell_type": "markdown",
   "metadata": {},
   "source": [
    "## Getting data into text string"
   ]
  },
  {
   "cell_type": "code",
   "execution_count": 26,
   "metadata": {},
   "outputs": [],
   "source": [
    "import requests\n",
    "\n",
    "url = \"https://raw.githubusercontent.com/junyang-chin/DSUB-5.0/main/Powells_rate-hike_plans_get_jolted_by_inflation.txt\""
   ]
  },
  {
   "cell_type": "code",
   "execution_count": 27,
   "metadata": {},
   "outputs": [],
   "source": [
    "response = requests.get(url)\n",
    "text = response.text\n",
    "text = str(text)"
   ]
  },
  {
   "cell_type": "code",
   "execution_count": 28,
   "metadata": {},
   "outputs": [
    {
     "name": "stdout",
     "output_type": "stream",
     "text": [
      "NEW YORK: Jerome Powell could deliver a hawkish surprise on Wednesday even after effectively pre-announcing 50-basis-point interest-rate increases at the Federal Reserve’s (Fed) meeting this week and in July.\n",
      "\n",
      "May’s red-hot inflation print hardened expectations the Fed would keep raising borrowing costs at that pace through September, with some investors betting the Fed chair will deliver a super-sized 75-basis-point move unless price pressures cool.\n",
      "\n",
      "Powell could reinforce that speculation during his post-meeting press conference by declining to take 75 basis points off the table – as he explicitly did last month by stating such a move wasn’t being actively considered – or by emphasising the need for nimble policy to cool surging prices.\n",
      "\n",
      "Data released Friday hammered home the message that the US central bank has a lot of work still to do in containing price pressures. Consumer prices excluding food and energy rose 8.6% in the 12 months through May, quickening to a fresh 40-year high.\n",
      "\n",
      "Traders following the data release saw even odds of the Fed raising rates by three-quarters of a percentage point in July, while economists at Barclays Plc changed their rate call to expect such a hike as soon as this week.\n",
      "\n",
      "The central bank’s updated quarterly projections will also likely steepen the expected path of future hikes and eventual peak. Officials in March saw rates reaching 1.9% this year and peaking at 2.8%, according to the median estimate.\n",
      "\n",
      "A survey of Bloomberg economists – conducted before publication of May’s consumer price data – saw the projections advancing to 2.6% this year and 3.1% in 2023.The Fed will be the highlight in a big week for central banks. The next day, the Bank of England (BoE) will also probably hike rates and is likely to debate a half-point move, and on Friday the Bank of Japan (BoJ) will take its own decision at a time when the weakness of the yen is proving increasingly hard to stomach.\n",
      "\n",
      "Below is our wrap of what else is coming up in the global economy.\n",
      "\n",
      "Asia\n",
      "\n",
      "In a key week for central bank action, the BoJ meets Friday to decide on policy. Even with the yen languishing at two-decade lows as the Fed prepares to hike US borrowing costs, governor Haruhiko Kuroda is widely expected to stick with rock-bottom interest rates.\n",
      "\n",
      "But the trajectory of the yen over the course of the coming days could make the BoJ’s position increasingly awkward.\n",
      "\n",
      "On the data front, readings on China’s retail spending, industrial output and investment on Wednesday should show the economy is beginning to claw out of the Covid-lockdown affected slump in April, though the May numbers are likely to remain downbeat.\n",
      "\n",
      "Jobless numbers from South Korea and Australia will likely show no impediment to further rate hikes in both countries.\n",
      "\n",
      "New Zealand will release growth figures showing the economic rebound has slowed there as the strongest inflation in more than three decades eats into household budgets.\n",
      "\n",
      "And India’s inflation rate likely remained well above the central bank’s comfort range, data today is set to show.\n",
      "\n",
      "Europe, Middle East, Africa\n",
      "\n",
      "The BoE is poised to deliver a fifth consecutive rate hike on Thursday, at a time when pressure is mounting on both governor Andrew Bailey and Prime Minister Boris Johnson over the cost of living.\n",
      "\n",
      "With inflation at 9% and the central bank’s own survey showing the worst approval rating since the poll began in 1999, an intense debate is likely among officials on whether or not to accelerate tightening with a half-point increase.\n",
      "\n",
      "Several data reports will inform their decision, including gross domestic product today that may show growth at the start of the second quarter after a decline in March, and then more evidence of a taut labour market tomorrow expected with a drop in unemployment and accelerating wage increases.\n",
      "\n",
      "The same day as the BoE, the Swiss National Bank will deliver a pivotal decision of its own.\n",
      "\n",
      "With officials now acknowledging the threat of inflation even in Switzerland, whose strong currency has insulated the economy from surging global prices, a shift toward finally\n"
     ]
    }
   ],
   "source": [
    "print(text)"
   ]
  },
  {
   "cell_type": "markdown",
   "metadata": {},
   "source": [
    "## Removing punctuations"
   ]
  },
  {
   "cell_type": "code",
   "execution_count": 29,
   "metadata": {},
   "outputs": [],
   "source": [
    "punctuations = \"\"\"!\"#$%&'()*+, -./:;<=>?@[\\]^_`{|}~\"\"\"\n",
    "\n",
    "for character in text:\n",
    "    if character in punctuations:\n",
    "        text = text.replace(character, \" \")\n",
    "\n",
    "text = text.lower() # converting all into small letter words\n",
    "        "
   ]
  },
  {
   "cell_type": "code",
   "execution_count": 30,
   "metadata": {},
   "outputs": [
    {
     "name": "stdout",
     "output_type": "stream",
     "text": [
      "new york  jerome powell could deliver a hawkish surprise on wednesday even after effectively pre announcing 50 basis point interest rate increases at the federal reserve’s  fed  meeting this week and in july \n",
      "\n",
      "may’s red hot inflation print hardened expectations the fed would keep raising borrowing costs at that pace through september  with some investors betting the fed chair will deliver a super sized 75 basis point move unless price pressures cool \n",
      "\n",
      "powell could reinforce that speculation during his post meeting press conference by declining to take 75 basis points off the table – as he explicitly did last month by stating such a move wasn’t being actively considered – or by emphasising the need for nimble policy to cool surging prices \n",
      "\n",
      "data released friday hammered home the message that the us central bank has a lot of work still to do in containing price pressures  consumer prices excluding food and energy rose 8 6  in the 12 months through may  quickening to a fresh 40 year high \n",
      "\n",
      "traders following the data release saw even odds of the fed raising rates by three quarters of a percentage point in july  while economists at barclays plc changed their rate call to expect such a hike as soon as this week \n",
      "\n",
      "the central bank’s updated quarterly projections will also likely steepen the expected path of future hikes and eventual peak  officials in march saw rates reaching 1 9  this year and peaking at 2 8   according to the median estimate \n",
      "\n",
      "a survey of bloomberg economists – conducted before publication of may’s consumer price data – saw the projections advancing to 2 6  this year and 3 1  in 2023 the fed will be the highlight in a big week for central banks  the next day  the bank of england  boe  will also probably hike rates and is likely to debate a half point move  and on friday the bank of japan  boj  will take its own decision at a time when the weakness of the yen is proving increasingly hard to stomach \n",
      "\n",
      "below is our wrap of what else is coming up in the global economy \n",
      "\n",
      "asia\n",
      "\n",
      "in a key week for central bank action  the boj meets friday to decide on policy  even with the yen languishing at two decade lows as the fed prepares to hike us borrowing costs  governor haruhiko kuroda is widely expected to stick with rock bottom interest rates \n",
      "\n",
      "but the trajectory of the yen over the course of the coming days could make the boj’s position increasingly awkward \n",
      "\n",
      "on the data front  readings on china’s retail spending  industrial output and investment on wednesday should show the economy is beginning to claw out of the covid lockdown affected slump in april  though the may numbers are likely to remain downbeat \n",
      "\n",
      "jobless numbers from south korea and australia will likely show no impediment to further rate hikes in both countries \n",
      "\n",
      "new zealand will release growth figures showing the economic rebound has slowed there as the strongest inflation in more than three decades eats into household budgets \n",
      "\n",
      "and india’s inflation rate likely remained well above the central bank’s comfort range  data today is set to show \n",
      "\n",
      "europe  middle east  africa\n",
      "\n",
      "the boe is poised to deliver a fifth consecutive rate hike on thursday  at a time when pressure is mounting on both governor andrew bailey and prime minister boris johnson over the cost of living \n",
      "\n",
      "with inflation at 9  and the central bank’s own survey showing the worst approval rating since the poll began in 1999  an intense debate is likely among officials on whether or not to accelerate tightening with a half point increase \n",
      "\n",
      "several data reports will inform their decision  including gross domestic product today that may show growth at the start of the second quarter after a decline in march  and then more evidence of a taut labour market tomorrow expected with a drop in unemployment and accelerating wage increases \n",
      "\n",
      "the same day as the boe  the swiss national bank will deliver a pivotal decision of its own \n",
      "\n",
      "with officials now acknowledging the threat of inflation even in switzerland  whose strong currency has insulated the economy from surging global prices  a shift toward finally\n"
     ]
    }
   ],
   "source": [
    "print(text)"
   ]
  },
  {
   "cell_type": "markdown",
   "metadata": {},
   "source": [
    "## Tokenise each word"
   ]
  },
  {
   "cell_type": "code",
   "execution_count": 31,
   "metadata": {},
   "outputs": [],
   "source": [
    "tokens = text.split() # Splitting the string into a list of words"
   ]
  },
  {
   "cell_type": "code",
   "execution_count": 32,
   "metadata": {},
   "outputs": [
    {
     "name": "stdout",
     "output_type": "stream",
     "text": [
      "['new', 'york', 'jerome', 'powell', 'could', 'deliver', 'a', 'hawkish', 'surprise', 'on', 'wednesday', 'even', 'after', 'effectively', 'pre', 'announcing', '50', 'basis', 'point', 'interest', 'rate', 'increases', 'at', 'the', 'federal', 'reserve’s', 'fed', 'meeting', 'this', 'week', 'and', 'in', 'july', 'may’s', 'red', 'hot', 'inflation', 'print', 'hardened', 'expectations', 'the', 'fed', 'would', 'keep', 'raising', 'borrowing', 'costs', 'at', 'that', 'pace', 'through', 'september', 'with', 'some', 'investors', 'betting', 'the', 'fed', 'chair', 'will', 'deliver', 'a', 'super', 'sized', '75', 'basis', 'point', 'move', 'unless', 'price', 'pressures', 'cool', 'powell', 'could', 'reinforce', 'that', 'speculation', 'during', 'his', 'post', 'meeting', 'press', 'conference', 'by', 'declining', 'to', 'take', '75', 'basis', 'points', 'off', 'the', 'table', '–', 'as', 'he', 'explicitly', 'did', 'last', 'month', 'by', 'stating', 'such', 'a', 'move', 'wasn’t', 'being', 'actively', 'considered', '–', 'or', 'by', 'emphasising', 'the', 'need', 'for', 'nimble', 'policy', 'to', 'cool', 'surging', 'prices', 'data', 'released', 'friday', 'hammered', 'home', 'the', 'message', 'that', 'the', 'us', 'central', 'bank', 'has', 'a', 'lot', 'of', 'work', 'still', 'to', 'do', 'in', 'containing', 'price', 'pressures', 'consumer', 'prices', 'excluding', 'food', 'and', 'energy', 'rose', '8', '6', 'in', 'the', '12', 'months', 'through', 'may', 'quickening', 'to', 'a', 'fresh', '40', 'year', 'high', 'traders', 'following', 'the', 'data', 'release', 'saw', 'even', 'odds', 'of', 'the', 'fed', 'raising', 'rates', 'by', 'three', 'quarters', 'of', 'a', 'percentage', 'point', 'in', 'july', 'while', 'economists', 'at', 'barclays', 'plc', 'changed', 'their', 'rate', 'call', 'to', 'expect', 'such', 'a', 'hike', 'as', 'soon', 'as', 'this', 'week', 'the', 'central', 'bank’s', 'updated', 'quarterly', 'projections', 'will', 'also', 'likely', 'steepen', 'the', 'expected', 'path', 'of', 'future', 'hikes', 'and', 'eventual', 'peak', 'officials', 'in', 'march', 'saw', 'rates', 'reaching', '1', '9', 'this', 'year', 'and', 'peaking', 'at', '2', '8', 'according', 'to', 'the', 'median', 'estimate', 'a', 'survey', 'of', 'bloomberg', 'economists', '–', 'conducted', 'before', 'publication', 'of', 'may’s', 'consumer', 'price', 'data', '–', 'saw', 'the', 'projections', 'advancing', 'to', '2', '6', 'this', 'year', 'and', '3', '1', 'in', '2023', 'the', 'fed', 'will', 'be', 'the', 'highlight', 'in', 'a', 'big', 'week', 'for', 'central', 'banks', 'the', 'next', 'day', 'the', 'bank', 'of', 'england', 'boe', 'will', 'also', 'probably', 'hike', 'rates', 'and', 'is', 'likely', 'to', 'debate', 'a', 'half', 'point', 'move', 'and', 'on', 'friday', 'the', 'bank', 'of', 'japan', 'boj', 'will', 'take', 'its', 'own', 'decision', 'at', 'a', 'time', 'when', 'the', 'weakness', 'of', 'the', 'yen', 'is', 'proving', 'increasingly', 'hard', 'to', 'stomach', 'below', 'is', 'our', 'wrap', 'of', 'what', 'else', 'is', 'coming', 'up', 'in', 'the', 'global', 'economy', 'asia', 'in', 'a', 'key', 'week', 'for', 'central', 'bank', 'action', 'the', 'boj', 'meets', 'friday', 'to', 'decide', 'on', 'policy', 'even', 'with', 'the', 'yen', 'languishing', 'at', 'two', 'decade', 'lows', 'as', 'the', 'fed', 'prepares', 'to', 'hike', 'us', 'borrowing', 'costs', 'governor', 'haruhiko', 'kuroda', 'is', 'widely', 'expected', 'to', 'stick', 'with', 'rock', 'bottom', 'interest', 'rates', 'but', 'the', 'trajectory', 'of', 'the', 'yen', 'over', 'the', 'course', 'of', 'the', 'coming', 'days', 'could', 'make', 'the', 'boj’s', 'position', 'increasingly', 'awkward', 'on', 'the', 'data', 'front', 'readings', 'on', 'china’s', 'retail', 'spending', 'industrial', 'output', 'and', 'investment', 'on', 'wednesday', 'should', 'show', 'the', 'economy', 'is', 'beginning', 'to', 'claw', 'out', 'of', 'the', 'covid', 'lockdown', 'affected', 'slump', 'in', 'april', 'though', 'the', 'may', 'numbers', 'are', 'likely', 'to', 'remain', 'downbeat', 'jobless', 'numbers', 'from', 'south', 'korea', 'and', 'australia', 'will', 'likely', 'show', 'no', 'impediment', 'to', 'further', 'rate', 'hikes', 'in', 'both', 'countries', 'new', 'zealand', 'will', 'release', 'growth', 'figures', 'showing', 'the', 'economic', 'rebound', 'has', 'slowed', 'there', 'as', 'the', 'strongest', 'inflation', 'in', 'more', 'than', 'three', 'decades', 'eats', 'into', 'household', 'budgets', 'and', 'india’s', 'inflation', 'rate', 'likely', 'remained', 'well', 'above', 'the', 'central', 'bank’s', 'comfort', 'range', 'data', 'today', 'is', 'set', 'to', 'show', 'europe', 'middle', 'east', 'africa', 'the', 'boe', 'is', 'poised', 'to', 'deliver', 'a', 'fifth', 'consecutive', 'rate', 'hike', 'on', 'thursday', 'at', 'a', 'time', 'when', 'pressure', 'is', 'mounting', 'on', 'both', 'governor', 'andrew', 'bailey', 'and', 'prime', 'minister', 'boris', 'johnson', 'over', 'the', 'cost', 'of', 'living', 'with', 'inflation', 'at', '9', 'and', 'the', 'central', 'bank’s', 'own', 'survey', 'showing', 'the', 'worst', 'approval', 'rating', 'since', 'the', 'poll', 'began', 'in', '1999', 'an', 'intense', 'debate', 'is', 'likely', 'among', 'officials', 'on', 'whether', 'or', 'not', 'to', 'accelerate', 'tightening', 'with', 'a', 'half', 'point', 'increase', 'several', 'data', 'reports', 'will', 'inform', 'their', 'decision', 'including', 'gross', 'domestic', 'product', 'today', 'that', 'may', 'show', 'growth', 'at', 'the', 'start', 'of', 'the', 'second', 'quarter', 'after', 'a', 'decline', 'in', 'march', 'and', 'then', 'more', 'evidence', 'of', 'a', 'taut', 'labour', 'market', 'tomorrow', 'expected', 'with', 'a', 'drop', 'in', 'unemployment', 'and', 'accelerating', 'wage', 'increases', 'the', 'same', 'day', 'as', 'the', 'boe', 'the', 'swiss', 'national', 'bank', 'will', 'deliver', 'a', 'pivotal', 'decision', 'of', 'its', 'own', 'with', 'officials', 'now', 'acknowledging', 'the', 'threat', 'of', 'inflation', 'even', 'in', 'switzerland', 'whose', 'strong', 'currency', 'has', 'insulated', 'the', 'economy', 'from', 'surging', 'global', 'prices', 'a', 'shift', 'toward', 'finally']\n"
     ]
    }
   ],
   "source": [
    "print(tokens)"
   ]
  },
  {
   "cell_type": "markdown",
   "metadata": {},
   "source": [
    "## Removing no context words i.e. stop words"
   ]
  },
  {
   "cell_type": "code",
   "execution_count": 33,
   "metadata": {},
   "outputs": [
    {
     "name": "stdout",
     "output_type": "stream",
     "text": [
      "[('the', 49), ('a', 20), ('to', 18), ('of', 18), ('in', 16), ('and', 14), ('is', 10), ('on', 9), ('at', 9), ('will', 9), ('with', 7), ('fed', 6), ('as', 6), ('data', 6), ('central', 6), ('likely', 6), ('point', 5), ('rate', 5), ('inflation', 5), ('bank', 5), ('deliver', 4), ('even', 4), ('this', 4), ('week', 4), ('that', 4), ('by', 4), ('–', 4), ('rates', 4), ('hike', 4), ('show', 4), ('could', 3), ('basis', 3), ('move', 3), ('price', 3), ('for', 3), ('prices', 3), ('friday', 3), ('has', 3), ('may', 3), ('year', 3), ('saw', 3), ('bank’s', 3), ('expected', 3), ('officials', 3), ('boe', 3), ('own', 3), ('decision', 3), ('yen', 3), ('economy', 3), ('new', 2)]\n"
     ]
    }
   ],
   "source": [
    "from collections import Counter\n",
    "print(Counter(tokens).most_common(50)) # Finding the top 50 word"
   ]
  },
  {
   "cell_type": "markdown",
   "metadata": {},
   "source": [
    "These are stop words and do not provide any context meaning. We call them stop words"
   ]
  },
  {
   "cell_type": "code",
   "execution_count": 34,
   "metadata": {},
   "outputs": [
    {
     "name": "stdout",
     "output_type": "stream",
     "text": [
      "['a', 'about', 'above', 'across', 'after', 'again', 'against', 'all', 'almost', 'alone', 'along', 'already', 'also', 'although', 'always', 'among', 'an', 'and', 'another', 'any', 'anybody', 'anyone', 'anything', 'anywhere', 'are', 'area', 'areas', 'around', 'as', 'ask', 'asked', 'asking', 'asks', 'at', 'away', 'b', 'back', 'backed', 'backing', 'backs', 'be', 'became', 'because', 'become', 'becomes', 'been', 'before', 'began', 'behind', 'being', 'beings', 'best', 'better', 'between', 'big', 'both', 'but', 'by', 'c', 'came', 'can', 'cannot', 'case', 'cases', 'certain', 'certainly', 'clear', 'clearly', 'come', 'could', 'd', 'did', 'differ', 'different', 'differently', 'do', 'does', 'done', 'down', 'down', 'downed', 'downing', 'downs', 'during', 'e', 'each', 'early', 'either', 'end', 'ended', 'ending', 'ends', 'enough', 'even', 'evenly', 'ever', 'every', 'everybody', 'everyone', 'everything', 'everywhere', 'f', 'face', 'faces', 'fact', 'facts', 'far', 'felt', 'few', 'find', 'finds', 'first', 'for', 'four', 'from', 'full', 'fully', 'further', 'furthered', 'furthering', 'furthers', 'g', 'gave', 'general', 'generally', 'get', 'gets', 'give', 'given', 'gives', 'go', 'going', 'good', 'goods', 'got', 'great', 'greater', 'greatest', 'group', 'grouped', 'grouping', 'groups', 'h', 'had', 'has', 'have', 'having', 'he', 'her', 'here', 'herself', 'high', 'high', 'high', 'higher', 'highest', 'him', 'himself', 'his', 'how', 'however', 'i', 'if', 'important', 'in', 'interest', 'interested', 'interesting', 'interests', 'into', 'is', 'it', 'its', 'itself', 'j', 'just', 'k', 'keep', 'keeps', 'kind', 'knew', 'know', 'known', 'knows', 'l', 'large', 'largely', 'last', 'later', 'latest', 'least', 'less', 'let', 'lets', 'like', 'likely', 'long', 'longer', 'longest', 'm', 'made', 'make', 'making', 'man', 'many', 'may', 'me', 'member', 'members', 'men', 'might', 'more', 'most', 'mostly', 'mr', 'mrs', 'much', 'must', 'my', 'myself', 'n', 'necessary', 'need', 'needed', 'needing', 'needs', 'never', 'new', 'new', 'newer', 'newest', 'next', 'no', 'nobody', 'non', 'noone', 'not', 'nothing', 'now', 'nowhere', 'number', 'numbers', 'o', 'of', 'off', 'often', 'old', 'older', 'oldest', 'on', 'once', 'one', 'only', 'open', 'opened', 'opening', 'opens', 'or', 'order', 'ordered', 'ordering', 'orders', 'other', 'others', 'our', 'out', 'over', 'p', 'part', 'parted', 'parting', 'parts', 'per', 'perhaps', 'place', 'places', 'point', 'pointed', 'pointing', 'points', 'possible', 'present', 'presented', 'presenting', 'presents', 'problem', 'problems', 'put', 'puts', 'q', 'quite', 'r', 'rather', 'really', 'right', 'right', 'room', 'rooms', 's', 'said', 'same', 'saw', 'say', 'says', 'second', 'seconds', 'see', 'seem', 'seemed', 'seeming', 'seems', 'sees', 'several', 'shall', 'she', 'should', 'show', 'showed', 'showing', 'shows', 'side', 'sides', 'since', 'small', 'smaller', 'smallest', 'so', 'some', 'somebody', 'someone', 'something', 'somewhere', 'state', 'states', 'still', 'still', 'such', 'sure', 't', 'take', 'taken', 'than', 'that', 'the', 'their', 'them', 'then', 'there', 'therefore', 'these', 'they', 'thing', 'things', 'think', 'thinks', 'this', 'those', 'though', 'thought', 'thoughts', 'three', 'through', 'thus', 'to', 'today', 'together', 'too', 'took', 'toward', 'turn', 'turned', 'turning', 'turns', 'two', 'u', 'under', 'until', 'up', 'upon', 'us', 'use', 'used', 'uses', 'v', 'very', 'w', 'want', 'wanted', 'wanting', 'wants', 'was', 'way', 'ways', 'we', 'well', 'wells', 'went', 'were', 'what', 'when', 'where', 'whether', 'which', 'while', 'who', 'whole', 'whose', 'why', 'will', 'with', 'within', 'without', 'work', 'worked', 'working', 'works', 'would', 'x', 'y', 'year', 'years', 'yet', 'you', 'young', 'younger', 'youngest', 'your', 'yours', 'z', 'a', \"a's\", 'able', 'about', 'above', 'according', 'accordingly', 'across', 'actually', 'after', 'afterwards', 'again', 'against', \"ain't\", 'all', 'allow', 'allows', 'almost', 'alone', 'along', 'already', 'also', 'although', 'always', 'am', 'among', 'amongst', 'an', 'and', 'another', 'any', 'anybody', 'anyhow', 'anyone', 'anything', 'anyway', 'anyways', 'anywhere', 'apart', 'appear', 'appreciate', 'appropriate', 'are', \"aren't\", 'around', 'as', 'aside', 'ask', 'asking', 'associated', 'at', 'available', 'away', 'awfully', 'b', 'be', 'became', 'because', 'become', 'becomes', 'becoming', 'been', 'before', 'beforehand', 'behind', 'being', 'believe', 'below', 'beside', 'besides', 'best', 'better', 'between', 'beyond', 'both', 'brief', 'but', 'by', 'c', \"c'mon\", \"c's\", 'came', 'can', \"can't\", 'cannot', 'cant', 'cause', 'causes', 'certain', 'certainly', 'changes', 'clearly', 'co', 'com', 'come', 'comes', 'concerning', 'consequently', 'consider', 'considering', 'contain', 'containing', 'contains', 'corresponding', 'could', \"couldn't\", 'course', 'currently', 'd', 'definitely', 'described', 'despite', 'did', \"didn't\", 'different', 'do', 'does', \"doesn't\", 'doing', \"don't\", 'done', 'down', 'downwards', 'during', 'e', 'each', 'edu', 'eg', 'eight', 'either', 'else', 'elsewhere', 'enough', 'entirely', 'especially', 'et', 'etc', 'even', 'ever', 'every', 'everybody', 'everyone', 'everything', 'everywhere', 'ex', 'exactly', 'example', 'except', 'f', 'far', 'few', 'fifth', 'first', 'five', 'followed', 'following', 'follows', 'for', 'former', 'formerly', 'forth', 'four', 'from', 'further', 'furthermore', 'g', 'get', 'gets', 'getting', 'given', 'gives', 'go', 'goes', 'going', 'gone', 'got', 'gotten', 'greetings', 'h', 'had', \"hadn't\", 'happens', 'hardly', 'has', \"hasn't\", 'have', \"haven't\", 'having', 'he', \"he's\", 'hello', 'help', 'hence', 'her', 'here', \"here's\", 'hereafter', 'hereby', 'herein', 'hereupon', 'hers', 'herself', 'hi', 'him', 'himself', 'his', 'hither', 'hopefully', 'how', 'howbeit', 'however', 'i', \"i'd\", \"i'll\", \"i'm\", \"i've\", 'ie', 'if', 'ignored', 'immediate', 'in', 'inasmuch', 'inc', 'indeed', 'indicate', 'indicated', 'indicates', 'inner', 'insofar', 'instead', 'into', 'inward', 'is', \"isn't\", 'it', \"it'd\", \"it'll\", \"it's\", 'its', 'itself', 'j', 'just', 'k', 'keep', 'keeps', 'kept', 'know', 'knows', 'known', 'l', 'last', 'lately', 'later', 'latter', 'latterly', 'least', 'less', 'lest', 'let', \"let's\", 'like', 'liked', 'likely', 'little', 'look', 'looking', 'looks', 'ltd', 'm', 'mainly', 'many', 'may', 'maybe', 'me', 'mean', 'meanwhile', 'merely', 'might', 'more', 'moreover', 'most', 'mostly', 'much', 'must', 'my', 'myself', 'n', 'name', 'namely', 'nd', 'near', 'nearly', 'necessary', 'need', 'needs', 'neither', 'never', 'nevertheless', 'new', 'next', 'nine', 'no', 'nobody', 'non', 'none', 'noone', 'nor', 'normally', 'not', 'nothing', 'novel', 'now', 'nowhere', 'o', 'obviously', 'of', 'off', 'often', 'oh', 'ok', 'okay', 'old', 'on', 'once', 'one', 'ones', 'only', 'onto', 'or', 'other', 'others', 'otherwise', 'ought', 'our', 'ours', 'ourselves', 'out', 'outside', 'over', 'overall', 'own', 'p', 'particular', 'particularly', 'per', 'perhaps', 'placed', 'please', 'plus', 'possible', 'presumably', 'probably', 'provides', 'q', 'que', 'quite', 'qv', 'r', 'rather', 'rd', 're', 'really', 'reasonably', 'regarding', 'regardless', 'regards', 'relatively', 'respectively', 'right', 'rt', 's', 'said', 'same', 'saw', 'say', 'saying', 'says', 'second', 'secondly', 'see', 'seeing', 'seem', 'seemed', 'seeming', 'seems', 'seen', 'self', 'selves', 'sensible', 'sent', 'serious', 'seriously', 'seven', 'several', 'shall', 'she', 'should', \"shouldn't\", 'since', 'six', 'so', 'some', 'somebody', 'somehow', 'someone', 'something', 'sometime', 'sometimes', 'somewhat', 'somewhere', 'soon', 'sorry', 'specified', 'specify', 'specifying', 'still', 'sub', 'such', 'sup', 'sure', 't', \"t's\", 'take', 'taken', 'tell', 'tends', 'th', 'than', 'thank', 'thanks', 'thanx', 'that', \"that's\", 'thats', 'the', 'their', 'theirs', 'them', 'themselves', 'then', 'thence', 'there', \"there's\", 'thereafter', 'thereby', 'therefore', 'therein', 'theres', 'thereupon', 'these', 'they', \"they'd\", \"they'll\", \"they're\", \"they've\", 'think', 'third', 'this', 'thorough', 'thoroughly', 'those', 'though', 'three', 'through', 'throughout', 'thru', 'thus', 'to', 'together', 'too', 'took', 'toward', 'towards', 'tried', 'tries', 'truly', 'try', 'trying', 'twice', 'two', 'u', 'un', 'under', 'unfortunately', 'unless', 'unlikely', 'until', 'unto', 'up', 'upon', 'us', 'use', 'used', 'useful', 'uses', 'using', 'usually', 'uucp', 'v', 'value', 'various', 'very', 'via', 'viz', 'vs', 'w', 'want', 'wants', 'was', \"wasn't\", 'way', 'we', \"we'd\", \"we'll\", \"we're\", \"we've\", 'welcome', 'well', 'went', 'were', \"weren't\", 'what', \"what's\", 'whatever', 'when', 'whence', 'whenever', 'where', \"where's\", 'whereafter', 'whereas', 'whereby', 'wherein', 'whereupon', 'wherever', 'whether', 'which', 'while', 'whither', 'who', \"who's\", 'whoever', 'whole', 'whom', 'whose', 'why', 'will', 'willing', 'wish', 'with', 'within', 'without', \"won't\", 'wonder', 'would', 'would', \"wouldn't\", 'x', 'y', 'yes', 'yet', 'you', \"you'd\", \"you'll\", \"you're\", \"you've\", 'your', 'yours', 'yourself', 'yourselves', 'z', 'zero']\n"
     ]
    }
   ],
   "source": [
    "# stopwords\n",
    "\n",
    "url = \"https://raw.githubusercontent.com/theleadio/datascience_demo/master/stopwords.txt\"\n",
    "\n",
    "response = requests.get(url)\n",
    "\n",
    "stopwords = response.text.splitlines() # creating a list of stopwords with a line delimitter \n",
    "print(stopwords)"
   ]
  },
  {
   "cell_type": "code",
   "execution_count": 35,
   "metadata": {},
   "outputs": [],
   "source": [
    "tokens = (t for t in tokens if t not in stopwords and len(t) > 1) # Remove empty words with length = 0"
   ]
  },
  {
   "cell_type": "code",
   "execution_count": 36,
   "metadata": {},
   "outputs": [
    {
     "name": "stdout",
     "output_type": "stream",
     "text": [
      "[('fed', 6), ('data', 6), ('central', 6), ('rate', 5), ('inflation', 5), ('bank', 5), ('deliver', 4), ('week', 4), ('rates', 4), ('hike', 4), ('basis', 3), ('move', 3), ('price', 3), ('prices', 3), ('friday', 3), ('bank’s', 3), ('expected', 3), ('officials', 3), ('boe', 3), ('decision', 3), ('yen', 3), ('economy', 3), ('powell', 2), ('wednesday', 2), ('increases', 2), ('meeting', 2), ('july', 2), ('may’s', 2), ('raising', 2), ('borrowing', 2), ('costs', 2), ('75', 2), ('pressures', 2), ('cool', 2), ('policy', 2), ('surging', 2), ('consumer', 2), ('release', 2), ('economists', 2), ('projections', 2), ('hikes', 2), ('march', 2), ('survey', 2), ('day', 2), ('debate', 2), ('half', 2), ('boj', 2), ('time', 2), ('increasingly', 2), ('coming', 2)]\n"
     ]
    }
   ],
   "source": [
    "print(Counter(tokens).most_common(50))"
   ]
  },
  {
   "cell_type": "code",
   "execution_count": null,
   "metadata": {},
   "outputs": [],
   "source": []
  }
 ],
 "metadata": {
  "kernelspec": {
   "display_name": "Python 3.9.12 ('base')",
   "language": "python",
   "name": "python3"
  },
  "language_info": {
   "codemirror_mode": {
    "name": "ipython",
    "version": 3
   },
   "file_extension": ".py",
   "mimetype": "text/x-python",
   "name": "python",
   "nbconvert_exporter": "python",
   "pygments_lexer": "ipython3",
   "version": "3.9.12"
  },
  "orig_nbformat": 4,
  "vscode": {
   "interpreter": {
    "hash": "4bbe2569fbb9a34d93c25870fba34813f147bbe7d6e769fc7298124b01662f4d"
   }
  }
 },
 "nbformat": 4,
 "nbformat_minor": 2
}
